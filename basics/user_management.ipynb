{
  "cells": [
    {
      "cell_type": "markdown",
      "metadata": {},
      "source": [
        "<td>\n",
        "   <a target=\"_blank\" href=\"https://labelbox.com\" ><img src=\"https://labelbox.com/blog/content/images/2021/02/logo-v4.svg\" width=256/></a>\n",
        "</td>\n"
      ]
    },
    {
      "cell_type": "markdown",
      "metadata": {},
      "source": [
        "<td>\n",
        "<a href=\"https://colab.research.google.com/github/Labelbox/labelbox-notebooks/blob/main/basics/user_management.ipynb\" target=\"_blank\"><img\n",
        "src=\"https://colab.research.google.com/assets/colab-badge.svg\" alt=\"Open In Colab\"></a>\n",
        "</td>\n",
        "\n",
        "<td>\n",
        "<a href=\"https://github.com/Labelbox/labelbox-notebooks/tree/main/basics/user_management.ipynb\" target=\"_blank\"><img\n",
        "src=\"https://img.shields.io/badge/GitHub-100000?logo=github&logoColor=white\" alt=\"GitHub\"></a>\n",
        "</td>"
      ]
    },
    {
      "cell_type": "markdown",
      "metadata": {},
      "source": [
        "# User Management\n",
        "* This notebook covers the following:\n",
        "    * create invites\n",
        "    * query for remaining allowed invites to an organization\n",
        "    * set and update organization roles\n",
        "    * assign users to projects\n",
        "        * set / update / revoke project role\n",
        "    * delete users from org"
      ]
    },
    {
      "cell_type": "code",
      "execution_count": null,
      "metadata": {},
      "outputs": [],
      "source": [
        "%pip install \"labelbox[data]\""
      ]
    },
    {
      "cell_type": "code",
      "execution_count": null,
      "metadata": {},
      "outputs": [],
      "source": [
        "import labelbox as lb\n",
        "import os\n",
        "from labelbox.schema.user_group import UserGroup, UserGroupColor"
      ]
    },
    {
      "cell_type": "markdown",
      "metadata": {},
      "source": [
        "# API Key and Client\n",
        "Provide a valid api key below in order to properly connect to the Labelbox Client."
      ]
    },
    {
      "cell_type": "code",
      "execution_count": null,
      "metadata": {},
      "outputs": [],
      "source": [
        "# Add your api key\n",
        "API_KEY = None\n",
        "client = lb.Client(api_key=API_KEY)\n",
        "organization = client.get_organization()"
      ]
    },
    {
      "cell_type": "markdown",
      "metadata": {},
      "source": [
        "## Roles\n",
        "* When inviting a new user to an organization, there are various roles to select from.\n",
        "* All available roles to your org can be accessed via `client.get_roles()`"
      ]
    },
    {
      "cell_type": "code",
      "execution_count": null,
      "metadata": {},
      "outputs": [],
      "source": [
        "roles = client.get_roles()\n",
        "for name, role in roles.items():\n",
        "    print(role.name, \":\", role.uid)"
      ]
    },
    {
      "cell_type": "markdown",
      "metadata": {},
      "source": [
        "* Above we printed out all of the roles available to the current org.\n",
        "* Notice the `NONE`. That is for project level roles"
      ]
    },
    {
      "cell_type": "markdown",
      "metadata": {},
      "source": [
        "## Create\n",
        "* Users are created by sending an invite\n",
        "* An email will be sent to them and they will be asked to join your organization"
      ]
    },
    {
      "cell_type": "markdown",
      "metadata": {},
      "source": [
        "### Organization Level Permissions\n",
        "* Invite a new labeler with labeling permissions on all projects"
      ]
    },
    {
      "cell_type": "code",
      "execution_count": null,
      "metadata": {},
      "outputs": [],
      "source": [
        "# First make sure that you have enough seats:\n",
        "organization.invite_limit()"
      ]
    },
    {
      "cell_type": "code",
      "execution_count": null,
      "metadata": {},
      "outputs": [],
      "source": [
        "USER_EMAIL = \"\"\n",
        "invite = organization.invite_user(USER_EMAIL, roles[\"LABELER\"])"
      ]
    },
    {
      "cell_type": "code",
      "execution_count": null,
      "metadata": {},
      "outputs": [],
      "source": [
        "print(invite.created_at)\n",
        "print(invite.organization_role_name)\n",
        "print(invite.email)"
      ]
    },
    {
      "cell_type": "markdown",
      "metadata": {},
      "source": [
        "### Project Level Permissions\n",
        "* Invite a new labeler with labeling permissions specific to a set of projects\n",
        "* Here we set organization level permissions to Roles.NONE to indicate that the user only has project level permissions"
      ]
    },
    {
      "cell_type": "code",
      "execution_count": null,
      "metadata": {},
      "outputs": [],
      "source": [
        "USER_EMAIL = \"\"\n",
        "project = client.create_project(name=\"test_user_management\",\n",
        "                                media_type=lb.MediaType.Image)\n",
        "project_role = lb.ProjectRole(project=project, role=roles[\"REVIEWER\"])\n",
        "invite = organization.invite_user(USER_EMAIL,\n",
        "                                  roles[\"NONE\"],\n",
        "                                  project_roles=[project_role])"
      ]
    },
    {
      "cell_type": "markdown",
      "metadata": {},
      "source": [
        "## Read\n",
        "* Outstanding invites cannot be queried for at this time. This information can be found in the members tab of the web app.\n",
        "* You are able to query for members once they have joined."
      ]
    },
    {
      "cell_type": "code",
      "execution_count": null,
      "metadata": {},
      "outputs": [],
      "source": [
        "users = list(organization.users())\n",
        "print(users[0])"
      ]
    },
    {
      "cell_type": "markdown",
      "metadata": {},
      "source": [
        "## Update\n",
        "* There is no update on invites. Instead you must delete and resend them\n",
        "* You can update User roles"
      ]
    },
    {
      "cell_type": "code",
      "execution_count": null,
      "metadata": {},
      "outputs": [],
      "source": [
        "# Get all users in the organization\n",
        "users = organization.users()\n",
        "\n",
        "# Filter the desired user using their email\n",
        "USER_EMAIL = \"\"\n",
        "user = next((u for u in users if u.email == USER_EMAIL), None)\n",
        "\n",
        "if user:\n",
        "    print(f\"User found: {user.name} ({user.email})\")\n",
        "else:\n",
        "    print(\"User not found.\")\n",
        "\n",
        "# Give the user organization level permissions\n",
        "user.update_org_role(roles[\"LABELER\"])\n",
        "print(user.org_role())\n",
        "# Restore project level permissions\n",
        "user.update_org_role(roles[\"NONE\"])\n",
        "print(user.org_role())\n",
        "# Make the user a labeler for the current project\n",
        "user.upsert_project_role(project, roles[\"LABELER\"])\n",
        "print(user.org_role())"
      ]
    },
    {
      "cell_type": "markdown",
      "metadata": {},
      "source": [
        "## Delete\n",
        "You can remove users from projects and your organization using the SDK. Invites can only be deleted using the **Members** tab on the web platform at this moment."
      ]
    },
    {
      "cell_type": "code",
      "execution_count": null,
      "id": "568942a5",
      "metadata": {},
      "outputs": [],
      "source": [
        "# Remove the user from a project\n",
        "user.remove_from_project(project)\n",
        "# Alternatively, set the project role to none\n",
        "user.update_org_role(roles[\"NONE\"])\n",
        "# Remove the user from the org\n",
        "organization.remove_user(user)"
      ]
    },
    {
      "cell_type": "markdown",
      "id": "5d62aa21",
      "metadata": {},
      "source": [
        "## Manage user groups\n",
        "### Create user groups"
      ]
    },
    {
      "cell_type": "code",
      "execution_count": null,
      "id": "69a5a82e",
      "metadata": {},
      "outputs": [],
      "source": [
        "# Define a user group\n",
        "user_group = UserGroup(\n",
        "    client=client,\n",
        "    name=\"New User Group\",\n",
        "    color=UserGroupColor.BLUE\n",
        "    users=set(user, user1, user2),\n",
        "    projects=set(project)\n",
        ")\n",
        "\n",
        "# Create the defined user group\n",
        "created_group = user_group.create() "
      ]
    },
    {
      "cell_type": "markdown",
      "id": "b9edbdfd",
      "metadata": {},
      "source": [
        "### Update user groups"
      ]
    },
    {
      "cell_type": "code",
      "execution_count": null,
      "id": "062b8006",
      "metadata": {},
      "outputs": [],
      "source": [
        "# Define the user group properties to be updated\n",
        "user_group.name = \"Updated User Group Name\"\n",
        "user_group.color = UserGroupColor.GREEN\n",
        "\n",
        "# Add new projects to the group\n",
        "projects = []\n",
        "projects.append(user_group.projects)\n",
        "projects.append([project_1, project_2])\n",
        "user_group.projects = projects\n",
        "\n",
        "# Add new users to the group\n",
        "\n",
        "users = user_group.users\n",
        "users.append([new_user_1, new_user_2])\n",
        "user_group.users = users\n",
        "\n",
        "# Push the changes to the group\n",
        "user_group.update()"
      ]
    },
    {
      "cell_type": "code",
      "execution_count": null,
      "id": "ce016ffb",
      "metadata": {},
      "outputs": [],
      "source": [
        "## Remove all members and projects from the group\n",
        "user_group.users = []\n",
        "user_group.projects = []\n",
        "user_group.update()\n",
        "\n",
        "# Push the changes to the group\n",
        "user_group.update()"
      ]
    },
    {
      "cell_type": "code",
      "execution_count": null,
      "id": "7560a5cb",
      "metadata": {},
      "outputs": [],
      "source": [
        "# Delete a user group\n",
        "user_group.delete()"
      ]
    },
    {
      "cell_type": "markdown",
      "id": "047a83dc",
      "metadata": {},
      "source": [
        "## Get user group info"
      ]
    },
    {
      "cell_type": "code",
      "execution_count": null,
      "id": "d3e18466",
      "metadata": {},
      "outputs": [],
      "source": [
        "# Get info of a user group\n",
        "user_group.get()\n",
        "\n",
        "# Get all user groups in your workspace\n",
        "user_groups = UserGroup(client).get_user_groups()\n",
        "\n",
        "# Search for a user group by its name\n",
        "example_group = next((group for group in user_groups if group.name == \"example_name\"), None)\n",
        "if example_group:\n",
        "    print(f\"Found user group 'example_name' with ID: {example_group.id}\")\n",
        "else:\n",
        "    print(\"No user group named 'example_name' found\")"
      ]
    },
    {
      "cell_type": "markdown",
      "metadata": {},
      "source": [
        "## Cleanup\n",
        "Delete the project if you no longer need it:"
      ]
    },
    {
      "cell_type": "code",
      "execution_count": null,
      "metadata": {},
      "outputs": [],
      "source": [
        "project.delete()"
      ]
    }
  ],
  "metadata": {
    "language_info": {
      "name": "python"
    }
  },
  "nbformat": 4,
  "nbformat_minor": 5
}
